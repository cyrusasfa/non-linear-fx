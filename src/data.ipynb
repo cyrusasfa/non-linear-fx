{
 "cells": [
  {
   "cell_type": "code",
   "execution_count": 1,
   "metadata": {},
   "outputs": [],
   "source": [
    "from meta import *\n",
    "from utils import *"
   ]
  },
  {
   "cell_type": "markdown",
   "metadata": {},
   "source": [
    "# Load the audio"
   ]
  },
  {
   "cell_type": "code",
   "execution_count": 21,
   "metadata": {},
   "outputs": [
    {
     "name": "stdout",
     "output_type": "stream",
     "text": [
      "loading: /import/c4dm-04/cv/fxdataset/guitar/NoFX/G93-56401-1111-21179.wav\n",
      "loading: /import/c4dm-04/cv/fxdataset/guitar/Overdrive/G91-50300-4422-40431.wav\n",
      "(32001, 1)\n",
      "(32001, 1)\n"
     ]
    }
   ],
   "source": [
    "input_target_pairs = get_input_target_fname_pairs(GUITAR, OVERDRIVE)\n",
    "\n",
    "instrument = GUITAR\n",
    "fx = DISTORTION\n",
    "\n",
    "audio_in = load_audio(os.path.join(params_path[instrument][NO_FX], input_target_pairs[1][0]))\n",
    "audio_target = load_audio(os.path.join(params_path[instrument][OVERDRIVE], input_target_pairs[55][1]))\n",
    "                          \n",
    "print(audio_in.shape)\n",
    "print(audio_target.shape)"
   ]
  }
 ],
 "metadata": {
  "kernelspec": {
   "display_name": "Python 3",
   "language": "python",
   "name": "python3"
  },
  "language_info": {
   "codemirror_mode": {
    "name": "ipython",
    "version": 3
   },
   "file_extension": ".py",
   "mimetype": "text/x-python",
   "name": "python",
   "nbconvert_exporter": "python",
   "pygments_lexer": "ipython3",
   "version": "3.6.6"
  }
 },
 "nbformat": 4,
 "nbformat_minor": 2
}
